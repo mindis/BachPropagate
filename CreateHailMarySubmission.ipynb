{
 "cells": [
  {
   "cell_type": "code",
   "execution_count": 1,
   "metadata": {
    "collapsed": true
   },
   "outputs": [],
   "source": [
    "TestFile='./Training/W2VAsFeatures-ChallengeSetFeatureFile.txt'\n",
    "with open(TestFile) as f:\n",
    "    test = f.readlines()"
   ]
  },
  {
   "cell_type": "code",
   "execution_count": 12,
   "metadata": {
    "collapsed": true
   },
   "outputs": [],
   "source": [
    "ScoresFile='./Training/W2VAsFeaturesChallenge-2080Model-2080Model-100Trees-NDCG500-tc-1-lr01-leaf50.txt'\n",
    "with open(ScoresFile) as f:\n",
    "    scores = f.readlines()"
   ]
  },
  {
   "cell_type": "code",
   "execution_count": 13,
   "metadata": {
    "collapsed": true
   },
   "outputs": [],
   "source": [
    "PidTestTracks={}\n",
    "for l in test:\n",
    "    pid=l.split()[1].split(':')[1].strip()\n",
    "    track=l.split('#')[1].strip()\n",
    "    PidTestTracks.setdefault(pid,[]).append(track)"
   ]
  },
  {
   "cell_type": "code",
   "execution_count": 14,
   "metadata": {
    "collapsed": true
   },
   "outputs": [],
   "source": [
    "PidTracksScores={}\n",
    "for l in scores:\n",
    "    pid=l.split()[0].strip()\n",
    "    trackScore=l.split()[2].strip()\n",
    "    PidTracksScores.setdefault(pid,[]).append(float(trackScore))"
   ]
  },
  {
   "cell_type": "code",
   "execution_count": 15,
   "metadata": {
    "collapsed": true
   },
   "outputs": [],
   "source": [
    "from random import shuffle\n",
    "rerankedCandidates={}\n",
    "for pid,tracksList  in PidTestTracks.items():\n",
    "    scoresList=PidTracksScores[pid]\n",
    "    zippedPairs=zip(tracksList,scoresList)\n",
    "    shuffle(zippedPairs)\n",
    "    rerankedCandidates[pid]=[x[0] for x in sorted(zippedPairs, key=lambda x: x[1], reverse=True)]"
   ]
  },
  {
   "cell_type": "code",
   "execution_count": 16,
   "metadata": {},
   "outputs": [
    {
     "data": {
      "text/plain": [
       "(1698, 1698)"
      ]
     },
     "execution_count": 16,
     "metadata": {},
     "output_type": "execute_result"
    }
   ],
   "source": [
    "len(tracksList), len(set(tracksList))"
   ]
  },
  {
   "cell_type": "code",
   "execution_count": 17,
   "metadata": {},
   "outputs": [
    {
     "name": "stdout",
     "output_type": "stream",
     "text": [
      "8\n"
     ]
    }
   ],
   "source": [
    "count=0\n",
    "for pid in rerankedCandidates:\n",
    "    if len(set(rerankedCandidates[pid]))<500:\n",
    "        count+=1\n",
    "print count"
   ]
  },
  {
   "cell_type": "code",
   "execution_count": 18,
   "metadata": {},
   "outputs": [
    {
     "name": "stdout",
     "output_type": "stream",
     "text": [
      "10000\n"
     ]
    }
   ],
   "source": [
    "#load test dataset\n",
    "import itertools as it\n",
    "import sys\n",
    "import json\n",
    "import re\n",
    "import collections\n",
    "import os\n",
    "from collections import Counter\n",
    "\n",
    "filename = '/home/ubuntu/testData/challenge_set.json'\n",
    "\n",
    "f = open(filename)\n",
    "js = f.read()\n",
    "f.close()\n",
    "mpd_slice = json.loads(js)\n",
    "\n",
    "count=0\n",
    "testPidMeta={}\n",
    "\n",
    "for playlist in mpd_slice['playlists']:\n",
    "    playlistId=str(playlist['pid'])\n",
    "    trackSet=[]\n",
    "    \n",
    "    for track in playlist['tracks']:\n",
    "        trackSet.append(track['track_uri'].replace('spotify:track:',''))\n",
    "        \n",
    "    if len(trackSet)==0:\n",
    "        testType='Challenge'\n",
    "        qtype='TitleOnly'\n",
    "        title=True\n",
    "        listLen=0\n",
    "    if 'name' in playlist and len(trackSet)>0:\n",
    "        testType='Challenge'\n",
    "        qtype='TitleAndTracks'\n",
    "        title=True\n",
    "        listLen=len(trackSet)\n",
    "    if 'name' not in playlist and len(trackSet)>0:\n",
    "        testType='Challenge'\n",
    "        qtype='OnlyTracks'\n",
    "        title=False\n",
    "        listLen=len(trackSet)\n",
    "    testPidMeta[playlistId]=(testType,title,qtype,listLen)\n",
    "    count+=1\n",
    "print count\n",
    "    "
   ]
  },
  {
   "cell_type": "code",
   "execution_count": 19,
   "metadata": {},
   "outputs": [
    {
     "name": "stdout",
     "output_type": "stream",
     "text": [
      "4\n"
     ]
    }
   ],
   "source": [
    "import os\n",
    "import subprocess\n",
    "import pickle\n",
    "count=0\n",
    "import pickle\n",
    "OldTopTracks = pickle.load( open( \"../sortedTop1000Tracks.pkl\", \"rb\" ) )\n",
    "TopTracks=[x.replace('spotify:track:','') for x in OldTopTracks]\n",
    "submissionFile=open(\"submission.csv\",\"w+\")\n",
    "submissionFile.write('team_info,main,BachPropagate,surya@ksu.edu\\n')\n",
    "for pid in testPidMeta:\n",
    "    if pid in rerankedCandidates:\n",
    "        candTracksList=rerankedCandidates[pid]\n",
    "    else:\n",
    "        count+=1\n",
    "        candTracksList=TopTracks[:500]\n",
    "    if len(candTracksList)< 500:\n",
    "        for toptrack in TopTracks:\n",
    "            if toptrack not in candTracksList:\n",
    "                candTracksList.append(toptrack)\n",
    "            if len(candTracksList)>= 500:\n",
    "                break\n",
    "    toPrint=['spotify:track:'+x for x in candTracksList[:500]]\n",
    "    concatTracks= ', '.join(toPrint)\n",
    "    opLine=pid+', '+concatTracks+'\\n'\n",
    "    submissionFile.write(opLine)\n",
    "submissionFile.close()  \n",
    "print count"
   ]
  },
  {
   "cell_type": "code",
   "execution_count": null,
   "metadata": {
    "collapsed": true
   },
   "outputs": [],
   "source": []
  }
 ],
 "metadata": {
  "kernelspec": {
   "display_name": "Python 2",
   "language": "python",
   "name": "python2"
  },
  "language_info": {
   "codemirror_mode": {
    "name": "ipython",
    "version": 2
   },
   "file_extension": ".py",
   "mimetype": "text/x-python",
   "name": "python",
   "nbconvert_exporter": "python",
   "pygments_lexer": "ipython2",
   "version": "2.7.12"
  }
 },
 "nbformat": 4,
 "nbformat_minor": 2
}
