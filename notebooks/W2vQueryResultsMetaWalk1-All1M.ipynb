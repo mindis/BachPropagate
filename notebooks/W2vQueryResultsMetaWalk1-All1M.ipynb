{
 "cells": [
  {
   "cell_type": "code",
   "execution_count": 1,
   "metadata": {
    "collapsed": true
   },
   "outputs": [],
   "source": [
    "import itertools as it\n",
    "from gensim.models import Word2Vec\n",
    "import gensim\n",
    "\n",
    "modelFile='./W2VModels/AllDataW2VMetaPathILI_CBOW_w5_200em.bin'\n",
    "model = gensim.models.Word2Vec.load(modelFile)\n",
    "\n",
    "#tuples=model.most_similar(positive=refSet, negative=None, topn=1000)\n",
    "\n",
    "\n",
    "count=0\n",
    "metaPathILIW2v={}\n",
    "vocab=set(model.wv.vocab)"
   ]
  },
  {
   "cell_type": "code",
   "execution_count": 2,
   "metadata": {
    "collapsed": true
   },
   "outputs": [],
   "source": [
    "import itertools as it\n",
    "import sys\n",
    "import json\n",
    "import re\n",
    "import collections\n",
    "import os\n",
    "from collections import Counter\n",
    "\n",
    "filename = '/home/ubuntu/testData/challenge_set.json'\n",
    "\n",
    "count=0\n",
    "\n",
    "\n",
    "f = open(filename)\n",
    "js = f.read()\n",
    "f.close()\n",
    "mpd_slice = json.loads(js)\n",
    "\n",
    "pidTrackChallengeMapping={}\n",
    "\n",
    "for playlist in mpd_slice['playlists']:\n",
    "    playlistId=str(playlist['pid'])\n",
    "    trackSet=[]\n",
    "    artists=[]\n",
    "    albums=[]\n",
    "    for track in playlist['tracks']:\n",
    "        trackSet.append(track['track_uri'].replace('spotify:track:',''))\n",
    "    if len(trackSet)>0:\n",
    "        pidTrackChallengeMapping[playlistId]=trackSet"
   ]
  },
  {
   "cell_type": "code",
   "execution_count": 3,
   "metadata": {},
   "outputs": [
    {
     "data": {
      "text/plain": [
       "9000"
      ]
     },
     "execution_count": 3,
     "metadata": {},
     "output_type": "execute_result"
    }
   ],
   "source": [
    "len(pidTrackChallengeMapping)"
   ]
  },
  {
   "cell_type": "code",
   "execution_count": 5,
   "metadata": {},
   "outputs": [
    {
     "name": "stderr",
     "output_type": "stream",
     "text": [
      "/usr/local/lib/python2.7/dist-packages/ipykernel_launcher.py:7: DeprecationWarning: Call to deprecated `most_similar` (Method will be removed in 4.0.0, use self.wv.most_similar() instead).\n",
      "  import sys\n"
     ]
    }
   ],
   "source": [
    "count=0\n",
    "metaPathILIW2v={}\n",
    "\n",
    "for pid in pidTrackChallengeMapping:\n",
    "    seedTracks= pidTrackChallengeMapping[pid]\n",
    "    try:\n",
    "        tuples=model.most_similar(positive=seedTracks, negative=None, topn=1000)\n",
    "        metaPathILIW2v[pid]=tuples\n",
    "    except:\n",
    "        nseedTracks=[x for x in seedTracks if x in vocab]\n",
    "        if len(nseedTracks)>0:\n",
    "            tuples=model.most_similar(positive=nseedTracks, negative=None, topn=1000)\n",
    "            metaPathILIW2v[pid]=tuples\n",
    "    count+=1\n",
    "    if count % 1000 ==0:\n",
    "        print 'processed' + str(count)"
   ]
  },
  {
   "cell_type": "code",
   "execution_count": 7,
   "metadata": {
    "collapsed": true
   },
   "outputs": [],
   "source": [
    "import pickle\n",
    "\n",
    "with open('ChallengeMetaPathILIW2v.pickle', 'wb') as handle:\n",
    "    pickle.dump(metaPathILIW2v, handle, protocol=pickle.HIGHEST_PROTOCOL)\n",
    "    "
   ]
  },
  {
   "cell_type": "code",
   "execution_count": 6,
   "metadata": {},
   "outputs": [
    {
     "data": {
      "text/plain": [
       "9000"
      ]
     },
     "execution_count": 6,
     "metadata": {},
     "output_type": "execute_result"
    }
   ],
   "source": [
    "len(metaPathILIW2v)"
   ]
  },
  {
   "cell_type": "code",
   "execution_count": null,
   "metadata": {
    "collapsed": true
   },
   "outputs": [],
   "source": []
  }
 ],
 "metadata": {
  "kernelspec": {
   "display_name": "Python 2",
   "language": "python",
   "name": "python2"
  },
  "language_info": {
   "codemirror_mode": {
    "name": "ipython",
    "version": 2
   },
   "file_extension": ".py",
   "mimetype": "text/x-python",
   "name": "python",
   "nbconvert_exporter": "python",
   "pygments_lexer": "ipython2",
   "version": "2.7.12"
  }
 },
 "nbformat": 4,
 "nbformat_minor": 2
}
