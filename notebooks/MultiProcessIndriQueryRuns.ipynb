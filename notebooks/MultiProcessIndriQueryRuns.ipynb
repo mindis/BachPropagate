{
 "cells": [
  {
   "cell_type": "code",
   "execution_count": 2,
   "metadata": {
    "collapsed": true
   },
   "outputs": [],
   "source": [
    "import multiprocessing as mp\n",
    "import codecs\n",
    "import os\n",
    "import subprocess\n",
    "def indriRunQuery(pathToFile):\n",
    "    opPath='/home/ubuntu/SpotifyChallenge/notebooks/Reranking/ChallengeQueryResults/QEPRF1M/'\n",
    "    try:\n",
    "        cmd= 'IndriRunQuery '+pathToFile\n",
    "        op= subprocess.check_output(cmd.split())\n",
    "        pid=pathToFile.split('/')[-1].split('.')[0]\n",
    "        with codecs.open(opPath+str(pid)+'.op', \"w\", encoding='utf-8') as f:\n",
    "            f.write(op)\n",
    "    except:\n",
    "        print pathToFile.split('/')[-1]\n",
    "\n",
    "#pool = mp.Pool(processes=4)\n",
    "#pool.map_async(cube, range(1,300))\n"
   ]
  },
  {
   "cell_type": "code",
   "execution_count": null,
   "metadata": {
    "collapsed": true
   },
   "outputs": [],
   "source": [
    "import os\n",
    "QueryDirPath='/home/ubuntu/SpotifyChallenge/notebooks/Reranking/ChallengeSetQueries/QEPRF1M/'\n",
    "opPath='/home/ubuntu/SpotifyChallenge/notebooks/Reranking/ChallengeQueryResults/QEPRF1M/'\n",
    "\n",
    "Queryfiles = os.listdir(QueryDirPath)\n",
    "pidErr=[]\n",
    "files=[]\n",
    "\n",
    "filesCovered=[x.replace('.op','.cfg') for x in os.listdir(opPath)]\n",
    "\n",
    "\n",
    "for queryParam in Queryfiles:\n",
    "    if queryParam not in filesCovered:\n",
    "        pathToFile=QueryDirPath+queryParam\n",
    "        files.append(pathToFile)\n",
    "\n",
    "\n",
    "pool = mp.Pool(processes=96)\n",
    "pool.map(indriRunQuery, files)"
   ]
  },
  {
   "cell_type": "code",
   "execution_count": 3,
   "metadata": {},
   "outputs": [
    {
     "data": {
      "text/plain": [
       "27000"
      ]
     },
     "execution_count": 3,
     "metadata": {},
     "output_type": "execute_result"
    }
   ],
   "source": [
    "len(files)"
   ]
  },
  {
   "cell_type": "code",
   "execution_count": 4,
   "metadata": {},
   "outputs": [
    {
     "data": {
      "text/plain": [
       "['/home/ubuntu/SpotifyChallenge/notebooks/Reranking/TrainingSetQueries/QEPRF750/414673.cfg',\n",
       " '/home/ubuntu/SpotifyChallenge/notebooks/Reranking/TrainingSetQueries/QEPRF750/279623.cfg',\n",
       " '/home/ubuntu/SpotifyChallenge/notebooks/Reranking/TrainingSetQueries/QEPRF750/279012.cfg',\n",
       " '/home/ubuntu/SpotifyChallenge/notebooks/Reranking/TrainingSetQueries/QEPRF750/528906.cfg',\n",
       " '/home/ubuntu/SpotifyChallenge/notebooks/Reranking/TrainingSetQueries/QEPRF750/192785.cfg',\n",
       " '/home/ubuntu/SpotifyChallenge/notebooks/Reranking/TrainingSetQueries/QEPRF750/660037.cfg',\n",
       " '/home/ubuntu/SpotifyChallenge/notebooks/Reranking/TrainingSetQueries/QEPRF750/826204.cfg',\n",
       " '/home/ubuntu/SpotifyChallenge/notebooks/Reranking/TrainingSetQueries/QEPRF750/396829.cfg',\n",
       " '/home/ubuntu/SpotifyChallenge/notebooks/Reranking/TrainingSetQueries/QEPRF750/666830.cfg',\n",
       " '/home/ubuntu/SpotifyChallenge/notebooks/Reranking/TrainingSetQueries/QEPRF750/920390.cfg',\n",
       " '/home/ubuntu/SpotifyChallenge/notebooks/Reranking/TrainingSetQueries/QEPRF750/500231.cfg',\n",
       " '/home/ubuntu/SpotifyChallenge/notebooks/Reranking/TrainingSetQueries/QEPRF750/68172.cfg',\n",
       " '/home/ubuntu/SpotifyChallenge/notebooks/Reranking/TrainingSetQueries/QEPRF750/401666.cfg',\n",
       " '/home/ubuntu/SpotifyChallenge/notebooks/Reranking/TrainingSetQueries/QEPRF750/293722.cfg',\n",
       " '/home/ubuntu/SpotifyChallenge/notebooks/Reranking/TrainingSetQueries/QEPRF750/25525.cfg',\n",
       " '/home/ubuntu/SpotifyChallenge/notebooks/Reranking/TrainingSetQueries/QEPRF750/796227.cfg',\n",
       " '/home/ubuntu/SpotifyChallenge/notebooks/Reranking/TrainingSetQueries/QEPRF750/661477.cfg',\n",
       " '/home/ubuntu/SpotifyChallenge/notebooks/Reranking/TrainingSetQueries/QEPRF750/528622.cfg',\n",
       " '/home/ubuntu/SpotifyChallenge/notebooks/Reranking/TrainingSetQueries/QEPRF750/570108.cfg',\n",
       " '/home/ubuntu/SpotifyChallenge/notebooks/Reranking/TrainingSetQueries/QEPRF750/285823.cfg']"
      ]
     },
     "execution_count": 4,
     "metadata": {},
     "output_type": "execute_result"
    }
   ],
   "source": [
    "files[:20]"
   ]
  },
  {
   "cell_type": "code",
   "execution_count": 1,
   "metadata": {},
   "outputs": [
    {
     "name": "stdout",
     "output_type": "stream",
     "text": [
      "96\n"
     ]
    }
   ],
   "source": [
    "import multiprocessing\n",
    "print multiprocessing.cpu_count()"
   ]
  },
  {
   "cell_type": "code",
   "execution_count": 4,
   "metadata": {},
   "outputs": [
    {
     "data": {
      "text/plain": [
       "['31926.op', '797906.op', '668403.op', '664880.op', '1099.op']"
      ]
     },
     "execution_count": 4,
     "metadata": {},
     "output_type": "execute_result"
    }
   ],
   "source": [
    "filesCovered[:5]"
   ]
  },
  {
   "cell_type": "code",
   "execution_count": 9,
   "metadata": {
    "collapsed": true
   },
   "outputs": [],
   "source": [
    "import os\n",
    "opPath='/home/ubuntu/SpotifyChallenge/notebooks/Reranking/TrainingQueryResults/QEPRF750/'\n",
    "\n",
    "filesCovered=[x.replace('.op','.cfg') for x in os.listdir(opPath)]"
   ]
  },
  {
   "cell_type": "code",
   "execution_count": 5,
   "metadata": {
    "collapsed": true
   },
   "outputs": [],
   "source": [
    "QueryDirPath='/home/ubuntu/SpotifyChallenge/notebooks/Reranking/TrainingSetQueries/QEPRF750/'\n",
    "opPath='/home/ubuntu/SpotifyChallenge/notebooks/Reranking/TrainingQueryResults/QEPRF750/'\n",
    "\n",
    "Queryfiles = os.listdir(QueryDirPath)"
   ]
  },
  {
   "cell_type": "code",
   "execution_count": 12,
   "metadata": {},
   "outputs": [
    {
     "data": {
      "text/plain": [
       "2462"
      ]
     },
     "execution_count": 12,
     "metadata": {},
     "output_type": "execute_result"
    }
   ],
   "source": [
    "len(set(filesCovered)&set(Queryfiles))"
   ]
  },
  {
   "cell_type": "code",
   "execution_count": 10,
   "metadata": {},
   "outputs": [
    {
     "data": {
      "text/plain": [
       "['31926.cfg', '797906.cfg', '668403.cfg', '664880.cfg', '1099.cfg']"
      ]
     },
     "execution_count": 10,
     "metadata": {},
     "output_type": "execute_result"
    }
   ],
   "source": [
    "filesCovered[:5]"
   ]
  },
  {
   "cell_type": "code",
   "execution_count": null,
   "metadata": {
    "collapsed": true
   },
   "outputs": [],
   "source": [
    "6CbcdeTQKj0qTaZTt0xkdk 161DnLWsx1i3u1JT05lzqU 1Slwb6dOYkBlWal1PGtnNg \n",
    "5xBoE8K8f3soVE4IFMph6a 6lanRgr6wXibZr8KgzXxBl 7o2CTH4ctstm8TNelqjb51 \n",
    "0IF0vGwaJQ8ZCh0QxhW6OV 494OU6M7NOf4ICYb4zWCf5 5kNe7PE09d6Kvw5pAsx23n \n",
    "2vwlzO0Qp8kfEtzTsCXfyE 4sqPibCnK53hzuYUCWrCCO 6sDQ4uiWw9OdVrCXFLSlZt \n",
    "1ENn0qD09GHn7xvfyiq6i5 51QzcFS7ynNkLiFbyJWKnA 2YlZnw2ikdb837oKMKjBkW \n",
    "4T6HLdP6OcAtqC6tGnQelG 2K87XMYnUMqLcX3zvtAF4G 4r4V1wYecTxSAAXV11cFPD \n",
    "1WP1r7fuvRqZRnUaTi2I1Q 1wYZZtamWTQAoj8B812uKQ 5xdVqHtFS0eLuNp4Z8Wbpa \n",
    "2jpBr2dJrIgrpkqorINSAa 6ZANrVuAMp2rpjhfbOuJly 7pJgjBf82BrUQ3z7HdQvW1 \n",
    "7bJwvubZZaoGE1AGEfu8Fi 3oEekS4xhmFQ88ieCVTZ7H 1X2Zd5wKGbY1oKzb8dzJRy \n",
    "7fYbFYt7X4FZvuJJC90EX0 06EL94D0TA27Ik0Ke5usbj 6WjmPTZKeDylStKmGHLcqQ \n",
    "1V6gIisPpYqgFeWbMLI0bA 5vTPxzm4h2bY9rYyVrGEU5 34MJ07N9Bhu6iKPaxSVnCT \n",
    "3sP3c86WFjOzHHnbhhZcLA 07BAaeVwEwkzQrE3qJxJ5S 1SfoXU9q0EZtlgSLlrYBju \n",
    "7DDVwZpfYLtpyRua3Zgi6E 5a7NdkF09AfD0H607eiOkX 0M955bMOoilikPXwKLYpoi \n",
    "5kzbtG4pIcu2s0SVrogm4o 0pdfN7nOHMYmKykzu1cyfm 6E9V9TRlVOLjenGjHemzEH \n",
    "4vDBJeeQCbhP9FaPPMsYkY 5KSJ9k1FYjFLnIRlJT2wF8 3NLnwwAQbbFKcEcV8hDItk \n",
    "5YXP4KXZV2bZUURf431frN 1rYYJVlUV2EcgehVUnwJvy 4r8lRYnoOGdEi6YyI5OC1o 73q3FpQVXWk5eSUnyo83E4 00LfFm08VWeZwB0Zlm24AT 0x1LCpY9Rgeq97VPajm81B 5YI7v4VBa23fbEt9wuUmkg 7LqjznQwfrax7MjQXmxqdQ 5QhEzshSe9SA4YiaQr6dNv 3vJG33adGD5Z39Gb6Cnevi 2rg3yLJKN5Yl4JCHHkMgeC 58FMZUy5S37eGxw1FqyJnp 5i7ZPbMdjxDRz3aqz4ikZC 3grLIqa7QgvP5Q6UjHPtmp 1RLT391KHFFJwbDb7y3eyd 2aFiaMXmWsM3Vj72F9ksBl 1IAzD1muglOxOcPbUHs70R 3MjUtNVVq3C8Fn0MP3zhXa"
   ]
  },
  {
   "cell_type": "code",
   "execution_count": null,
   "metadata": {
    "collapsed": true
   },
   "outputs": [],
   "source": []
  }
 ],
 "metadata": {
  "kernelspec": {
   "display_name": "Python 2",
   "language": "python",
   "name": "python2"
  },
  "language_info": {
   "codemirror_mode": {
    "name": "ipython",
    "version": 2
   },
   "file_extension": ".py",
   "mimetype": "text/x-python",
   "name": "python",
   "nbconvert_exporter": "python",
   "pygments_lexer": "ipython2",
   "version": "2.7.12"
  }
 },
 "nbformat": 4,
 "nbformat_minor": 2
}
