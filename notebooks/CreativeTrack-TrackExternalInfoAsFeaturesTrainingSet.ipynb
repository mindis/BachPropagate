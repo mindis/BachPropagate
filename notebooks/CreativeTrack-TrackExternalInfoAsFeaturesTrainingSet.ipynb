{
 "cells": [
  {
   "cell_type": "markdown",
   "metadata": {},
   "source": [
    "# Load and parse indri files"
   ]
  },
  {
   "cell_type": "code",
   "execution_count": 1,
   "metadata": {
    "collapsed": true
   },
   "outputs": [],
   "source": [
    "import os\n",
    "\n",
    "Meta1Resultspath='/home/ubuntu/SpotifyChallenge/notebooks/Reranking/TestingQueryResults/Meta1/'\n",
    "Meta2Resultspath='/home/ubuntu/SpotifyChallenge/notebooks/Reranking/TestingQueryResults/Meta2/'\n",
    "QEPRFResultspath='/home/ubuntu/SpotifyChallenge/notebooks/Reranking/TestingQueryResults/QEPRF750/'\n",
    "\n",
    "Meta1Files=[Meta1Resultspath+x for x in os.listdir(Meta1Resultspath)]\n",
    "Meta2Files=[Meta2Resultspath+x for x in os.listdir(Meta2Resultspath)]\n",
    "QEPRFFiles=[QEPRFResultspath+x for x in os.listdir(QEPRFResultspath)]"
   ]
  },
  {
   "cell_type": "code",
   "execution_count": 2,
   "metadata": {
    "collapsed": true
   },
   "outputs": [],
   "source": [
    "#parse QE-PRF Indri files\n",
    "import codecs\n",
    "def QEPRFParse(path):\n",
    "    playlistId=path.split('/')[-1].split('.op')[0]\n",
    "    with codecs.open(path, 'r', encoding='utf-8') as f:\n",
    "        lines = f.read().splitlines()\n",
    "    inputQueries=lines[0].split('# query: ')[1].split()\n",
    "    return(playlistId,inputQueries)"
   ]
  },
  {
   "cell_type": "code",
   "execution_count": 3,
   "metadata": {
    "collapsed": true
   },
   "outputs": [],
   "source": [
    "QEPRFOp={}\n",
    "err3=[]\n",
    "for f in QEPRFFiles:\n",
    "    res=QEPRFParse(f)\n",
    "    if res !=\"QueryError\":\n",
    "        QEPRFOp[res[0]]=res[1]\n",
    "    else:\n",
    "        err3.append(f)"
   ]
  },
  {
   "cell_type": "code",
   "execution_count": 4,
   "metadata": {
    "collapsed": true
   },
   "outputs": [],
   "source": [
    "#load mapping of pid and tracks\n",
    "import pickle\n",
    "trackFeatures=pickle.load(open('/home/ubuntu/GetTrackData/trackFeatures.pkl','rb'))\n",
    "trackDetails=pickle.load(open('/home/ubuntu/GetTrackData/trackDetails.pkl','rb'))\n"
   ]
  },
  {
   "cell_type": "code",
   "execution_count": 5,
   "metadata": {},
   "outputs": [
    {
     "name": "stdout",
     "output_type": "stream",
     "text": [
      "[9, 0.858, 0.159, 115.004, 0.0408, 0.0532, 0.722, -4.213, 0.753, 8.69e-06]\n",
      "[u'2013-03-12', 2, False, u'US9N71300007']\n"
     ]
    }
   ],
   "source": [
    "for i in trackFeatures:\n",
    "    print trackFeatures[i]\n",
    "    break\n",
    "for i in trackDetails:\n",
    "    print trackDetails[i]\n",
    "    break"
   ]
  },
  {
   "cell_type": "code",
   "execution_count": 6,
   "metadata": {},
   "outputs": [
    {
     "data": {
      "text/plain": [
       "(4500, 2262133, 2261675)"
      ]
     },
     "execution_count": 6,
     "metadata": {},
     "output_type": "execute_result"
    }
   ],
   "source": [
    "len(QEPRFOp), len(trackFeatures), len(trackDetails)"
   ]
  },
  {
   "cell_type": "code",
   "execution_count": 7,
   "metadata": {},
   "outputs": [
    {
     "data": {
      "text/plain": [
       "('503643',\n",
       " [u'6O6M7pJLABmfBRoGZMu76Y',\n",
       "  u'1wYZZtamWTQAoj8B812uKQ',\n",
       "  u'539dFCMA8lfEElDPgGpcIB',\n",
       "  u'3WKg25vrbjJlkhsgl2W4p3',\n",
       "  u'3Qe097eJNp9MfpT2PieEw0',\n",
       "  u'2GiJYvgVaD2HtM8GqD9EgQ',\n",
       "  u'7xqQtHLkKKyMa5T6777OVg',\n",
       "  u'2vW5tqS1EFel9yYOQ7WZmE',\n",
       "  u'4CLPNURPcKztF9RRdcWLGP',\n",
       "  u'6i0YwBLhYs3kkb6qmty0uC',\n",
       "  u'7GQjJEwqlp6m5HNWVQd6OR',\n",
       "  u'2yARskwKoNDTbL61y3qqjy',\n",
       "  u'4HnPZXkx15Y5hfBWh9vtQL',\n",
       "  u'7zmJyZL3DfYBBYbY8Rve6W',\n",
       "  u'6leiB1fEsTnVCuPiielde5',\n",
       "  u'69bp2EbF7Q2rqc5N3ylezZ',\n",
       "  u'14OxJlLdcHNpgsm4DRwDOB',\n",
       "  u'1WP1r7fuvRqZRnUaTi2I1Q',\n",
       "  u'494OU6M7NOf4ICYb4zWCf5',\n",
       "  u'7cgu4JBW3hq1GwTM1ilkKQ',\n",
       "  u'0mJbuGt59wWGa5QzxuW0xN',\n",
       "  u'0RuUVOssl9hBGT95BYKqEI',\n",
       "  u'2aFiaMXmWsM3Vj72F9ksBl',\n",
       "  u'0vbbhcA6okLzvsy6WSTlLg',\n",
       "  u'40YcuQysJ0KlGQTeGUosTC'])"
      ]
     },
     "execution_count": 7,
     "metadata": {},
     "output_type": "execute_result"
    }
   ],
   "source": [
    "#QEPRFOp format: playlistId mapped to [reference set(queries), predictions(rank, playlistid, score)]\n",
    "QEPRFOp.items()[0]"
   ]
  },
  {
   "cell_type": "code",
   "execution_count": 169,
   "metadata": {
    "collapsed": true
   },
   "outputs": [],
   "source": [
    "count1=0\n",
    "count2=0\n",
    "count3=0\n",
    "import numpy as np\n",
    "pidFeatures={}\n",
    "pidDetails={}\n",
    "pidSpread={}\n",
    "for pid in QEPRFOp:\n",
    "    plFeatures=[]\n",
    "    plDetails1=[]\n",
    "    plDetails2=[]\n",
    "    for track in QEPRFOp[pid]:\n",
    "        if track in trackFeatures:\n",
    "            plFeatures.append(trackFeatures[track])\n",
    "        if track in trackDetails:\n",
    "            plDetails1.append(trackDetails[track][1])\n",
    "            plDetails2.append(trackDetails[track][2]&1)\n",
    "    if len(plFeatures)>0:\n",
    "        pidFeatures[pid]=[np.average(plFeatures, axis=0), np.min(plFeatures, axis=0), np.max(plFeatures, axis=0), np.median(plFeatures, axis=0)]\n",
    "        pidSpread[pid]= np.max(plFeatures, axis=0) - np.min(plFeatures, axis=0)\n",
    "    if len(plDetails1)>0 and len(plDetails2)>0:\n",
    "        pidDetails[pid]=[min(plDetails1), max(plDetails1), sum(plDetails1)*1.0/len(plDetails1),max(plDetails1)-min(plDetails1),sum(plDetails2)*1.0/len(plDetails2)]"
   ]
  },
  {
   "cell_type": "code",
   "execution_count": 170,
   "metadata": {},
   "outputs": [
    {
     "name": "stdout",
     "output_type": "stream",
     "text": [
      "4500\n",
      "4500\n",
      "4500\n",
      "4500\n"
     ]
    }
   ],
   "source": [
    "print len(pidFeatures)\n",
    "print len(pidDetails)\n",
    "print len(pidSpread)\n",
    "print len(QEPRFOp)"
   ]
  },
  {
   "cell_type": "code",
   "execution_count": 171,
   "metadata": {},
   "outputs": [
    {
     "name": "stdout",
     "output_type": "stream",
     "text": [
      "[array([  5.00000000e+00,   6.47000000e-01,   6.96000000e-02,\n",
      "         1.24048000e+02,   4.74000000e-02,   3.95000000e-04,\n",
      "         6.74000000e-01,  -6.10500000e+00,   2.87000000e-01,\n",
      "         2.03000000e-03]), array([  5.00000000e+00,   6.47000000e-01,   6.96000000e-02,\n",
      "         1.24048000e+02,   4.74000000e-02,   3.95000000e-04,\n",
      "         6.74000000e-01,  -6.10500000e+00,   2.87000000e-01,\n",
      "         2.03000000e-03]), array([  5.00000000e+00,   6.47000000e-01,   6.96000000e-02,\n",
      "         1.24048000e+02,   4.74000000e-02,   3.95000000e-04,\n",
      "         6.74000000e-01,  -6.10500000e+00,   2.87000000e-01,\n",
      "         2.03000000e-03]), array([  5.00000000e+00,   6.47000000e-01,   6.96000000e-02,\n",
      "         1.24048000e+02,   4.74000000e-02,   3.95000000e-04,\n",
      "         6.74000000e-01,  -6.10500000e+00,   2.87000000e-01,\n",
      "         2.03000000e-03])]\n"
     ]
    }
   ],
   "source": [
    "print pidFeatures[pid]\n"
   ]
  },
  {
   "cell_type": "code",
   "execution_count": 172,
   "metadata": {},
   "outputs": [
    {
     "data": {
      "text/plain": [
       "[[5, 0.647, 0.0696, 124.048, 0.0474, 0.000395, 0.674, -6.105, 0.287, 0.00203]]"
      ]
     },
     "execution_count": 172,
     "metadata": {},
     "output_type": "execute_result"
    }
   ],
   "source": [
    "plFeatures"
   ]
  },
  {
   "cell_type": "code",
   "execution_count": 173,
   "metadata": {},
   "outputs": [
    {
     "data": {
      "text/plain": [
       "array([ 0.,  0.,  0.,  0.,  0.,  0.,  0.,  0.,  0.,  0.])"
      ]
     },
     "execution_count": 173,
     "metadata": {},
     "output_type": "execute_result"
    }
   ],
   "source": [
    "np.max(plFeatures, axis=0)-np.min(plFeatures, axis=0)"
   ]
  },
  {
   "cell_type": "code",
   "execution_count": 174,
   "metadata": {
    "collapsed": true
   },
   "outputs": [],
   "source": [
    "TrainFile='./Training/Word2VecBaseFiles/W2VAsFeatures-BigRecallTestingFile750.txt'\n",
    "with open(TrainFile) as f:\n",
    "    train = f.readlines()"
   ]
  },
  {
   "cell_type": "code",
   "execution_count": 175,
   "metadata": {
    "collapsed": true
   },
   "outputs": [],
   "source": [
    "import sys\n",
    "def formatFloat(val):\n",
    "    if val==0:\n",
    "        return str(0)\n",
    "    return format(val, '.10f')\n",
    "\n",
    "def printOp(arr, num):\n",
    "    count=num\n",
    "    op=''\n",
    "    for elem in arr:\n",
    "        op=op+' '+str(count)+':'+formatFloat(elem)\n",
    "        count+=1\n",
    "    return op"
   ]
  },
  {
   "cell_type": "code",
   "execution_count": 176,
   "metadata": {},
   "outputs": [
    {
     "name": "stdout",
     "output_type": "stream",
     "text": [
      "1000000\n",
      "2000000\n",
      "3000000\n",
      "4000000\n",
      "5000000\n",
      "6000000\n",
      "7000000\n"
     ]
    }
   ],
   "source": [
    "newOp=[]\n",
    "count=0\n",
    "for l in train:\n",
    "    pid=l.split()[1].split(':')[1].strip()\n",
    "    trackid=l.split('#')[1].strip()\n",
    "    \n",
    "    \n",
    "    newL=l.split('#')[0].strip()\n",
    "    \n",
    "    if trackid in trackFeatures:\n",
    "        tfs= trackFeatures[trackid]\n",
    "        newL=newL+ printOp(tfs,28)\n",
    "        \n",
    "        toPrint=[]\n",
    "        if pid in pidFeatures:\n",
    "            for arr in pidFeatures[pid]:\n",
    "                toPrint.append(tfs-arr)\n",
    "\n",
    "            flist1= np.array(toPrint).flatten()\n",
    "            newL=newL+ printOp(flist1,38)\n",
    "    if pid in pidSpread:\n",
    "        flist2=pidSpread[pid]\n",
    "        newL=newL+ printOp(flist2,78)\n",
    "    if pid in pidDetails:\n",
    "        deets=pidDetails[pid]\n",
    "        newL=newL+ printOp(deets,88)\n",
    "    \n",
    "    if trackid in trackDetails:\n",
    "        tdeets=[trackDetails[trackid][1],trackDetails[trackid][2]&1]\n",
    "        flist3=[deets[0]-tdeets[0], deets[1]-tdeets[0], deets[3]-tdeets[0]]\n",
    "        newL=newL+ printOp(tdeets,93)\n",
    "        newL=newL+ printOp(flist3,95)\n",
    "    newL=newL+ ' #'+trackid\n",
    "    newOp.append(newL)\n",
    "    count+=1\n",
    "    if count%1000000==0:\n",
    "        print count"
   ]
  },
  {
   "cell_type": "code",
   "execution_count": 159,
   "metadata": {},
   "outputs": [
    {
     "data": {
      "text/plain": [
       "'1 qid:1045318 1:1051 2:311.0 3:551 4:1 5:162 6:100 7:62 8:0.4938271605 9:0.4135802469 10:0.0617283951 11:0.0617283951 12:0 13:0 14:0 15:0.0181150000 16:0.1209010000 17:0.0656040000 18:0 19:0 20:0 21:0.0008850000 22:0.0003530000 23:0.0001100000 24:1050 25:1050 26:1050 27:1050 28:10.0000000000 29:0.5820000000 30:0.1530000000 31:126.0750000000 32:0.1030000000 33:0.2900000000 34:0.7980000000 35:-7.3800000000 36:0.7660000000 37:0 38:5.6200000000 39:0.0056400000 40:-0.0234210000 41:7.3171900000 42:0.0193760000 43:-0.0069000600 44:0.2059000000 45:0.0298200000 46:0.3839590000 47:-0.0041439111 48:10.0000000000 49:0.4280000000 50:0.1283000000 51:53.0380000000 52:0.0769000000 53:0.2895570000 54:0.5720000000 55:17.7250000000 56:0.7282000000 57:0 58:-1.0000000000 59:-0.3600000000 60:-0.7150000000 61:-53.8880000000 62:-0.3140000000 63:-0.5960000000 64:-0.0140000000 65:-3.9570000000 66:-0.1950000000 67:-0.1310000000 68:6.0000000000 69:-0.0175000000 70:0.0310000000 71:10.5835000000 72:0.0484000000 73:0.0805000000 74:0.1990000000 75:-0.2635000000 76:0.4100000000 77:-0.0000034200 78:11.0000000000 79:0.7880000000 80:0.8433000000 81:106.9260000000 82:0.3909000000 83:0.8855570000 84:0.5860000000 85:21.6820000000 86:0.9232000000 87:0.1310000000 88:0 89:84.0000000000 90:58.4000000000 91:84.0000000000 92:0.2300000000 93:82.0000000000 94:1.0000000000 95:-82.0000000000 96:2.0000000000 97:2.0000000000 #6PGoSes0D9eUDeeAafB2As'"
      ]
     },
     "execution_count": 159,
     "metadata": {},
     "output_type": "execute_result"
    }
   ],
   "source": [
    "newL"
   ]
  },
  {
   "cell_type": "code",
   "execution_count": 160,
   "metadata": {},
   "outputs": [
    {
     "data": {
      "text/plain": [
       "14417770"
      ]
     },
     "execution_count": 160,
     "metadata": {},
     "output_type": "execute_result"
    }
   ],
   "source": [
    "len(newOp)"
   ]
  },
  {
   "cell_type": "code",
   "execution_count": 163,
   "metadata": {
    "collapsed": true
   },
   "outputs": [],
   "source": [
    "opTrainingFile='./Training/ExternalAndW2VAsFeatures-BigRecall-TestingFile750-2080.txt'\n",
    "with open(opTrainingFile, 'w') as file_handler:\n",
    "    for line in newOp:\n",
    "        file_handler.write(line+'\\n')"
   ]
  },
  {
   "cell_type": "code",
   "execution_count": null,
   "metadata": {
    "collapsed": true
   },
   "outputs": [],
   "source": []
  }
 ],
 "metadata": {
  "kernelspec": {
   "display_name": "Python 2",
   "language": "python",
   "name": "python2"
  },
  "language_info": {
   "codemirror_mode": {
    "name": "ipython",
    "version": 2
   },
   "file_extension": ".py",
   "mimetype": "text/x-python",
   "name": "python",
   "nbconvert_exporter": "python",
   "pygments_lexer": "ipython2",
   "version": "2.7.12"
  }
 },
 "nbformat": 4,
 "nbformat_minor": 2
}
