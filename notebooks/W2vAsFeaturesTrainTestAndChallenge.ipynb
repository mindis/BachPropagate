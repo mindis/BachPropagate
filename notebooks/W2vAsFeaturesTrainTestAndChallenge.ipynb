{
 "cells": [
  {
   "cell_type": "code",
   "execution_count": 22,
   "metadata": {
    "collapsed": true
   },
   "outputs": [],
   "source": [
    "import pickle\n",
    "metaPathAILAW2v=pickle.load(open('./metaPathAILAW2v.pickle','rb'))\n",
    "metaPathILIW2vW2v750=pickle.load(open('./metaPathILIW2vW2v750.pickle','rb'))\n",
    "OnlyTracksW2v750=pickle.load(open('./OnlyTracksW2v750.pickle','rb'))\n",
    "TitleAndTracksW2v750=pickle.load(open('./TitleAndTracksW2v750.pickle','rb'))"
   ]
  },
  {
   "cell_type": "code",
   "execution_count": 23,
   "metadata": {
    "collapsed": true
   },
   "outputs": [],
   "source": [
    "metaPathAILAW2vDict={}\n",
    "for pid in metaPathAILAW2v:\n",
    "    rank=1\n",
    "    tracksRanks={}\n",
    "    for pair in metaPathAILAW2v[pid]:\n",
    "        tracksRanks[pair[0]]=rank\n",
    "        rank+=1\n",
    "    metaPathAILAW2vDict[pid]=tracksRanks"
   ]
  },
  {
   "cell_type": "code",
   "execution_count": 24,
   "metadata": {},
   "outputs": [
    {
     "data": {
      "text/plain": [
       "76500"
      ]
     },
     "execution_count": 24,
     "metadata": {},
     "output_type": "execute_result"
    }
   ],
   "source": [
    "len(metaPathAILAW2vDict)"
   ]
  },
  {
   "cell_type": "code",
   "execution_count": 25,
   "metadata": {
    "collapsed": true
   },
   "outputs": [],
   "source": [
    "metaPathILIW2vW2v750Dict={}\n",
    "for pid in metaPathILIW2vW2v750:\n",
    "    rank=1\n",
    "    tracksRanks={}\n",
    "    for pair in metaPathILIW2vW2v750[pid]:\n",
    "        tracksRanks[pair[0]]=rank\n",
    "        rank+=1\n",
    "    metaPathILIW2vW2v750Dict[pid]=tracksRanks"
   ]
  },
  {
   "cell_type": "code",
   "execution_count": 26,
   "metadata": {},
   "outputs": [
    {
     "data": {
      "text/plain": [
       "76500"
      ]
     },
     "execution_count": 26,
     "metadata": {},
     "output_type": "execute_result"
    }
   ],
   "source": [
    "len(metaPathILIW2vW2v750Dict)"
   ]
  },
  {
   "cell_type": "code",
   "execution_count": 27,
   "metadata": {
    "collapsed": true
   },
   "outputs": [],
   "source": [
    "\n",
    "OnlyTracksW2v750W2vDict={}\n",
    "for pid in OnlyTracksW2v750:\n",
    "    rank=1\n",
    "    tracksRanks={}\n",
    "    for pair in OnlyTracksW2v750[pid]:\n",
    "        tracksRanks[pair[0]]=rank\n",
    "        rank+=1\n",
    "    OnlyTracksW2v750W2vDict[pid]=tracksRanks"
   ]
  },
  {
   "cell_type": "code",
   "execution_count": 28,
   "metadata": {},
   "outputs": [
    {
     "data": {
      "text/plain": [
       "76500"
      ]
     },
     "execution_count": 28,
     "metadata": {},
     "output_type": "execute_result"
    }
   ],
   "source": [
    "len(OnlyTracksW2v750W2vDict)"
   ]
  },
  {
   "cell_type": "code",
   "execution_count": 29,
   "metadata": {
    "collapsed": true
   },
   "outputs": [],
   "source": [
    "\n",
    "TitleAndTracksW2v750Dict={}\n",
    "for pid in TitleAndTracksW2v750:\n",
    "    rank=1\n",
    "    tracksRanks={}\n",
    "    for pair in TitleAndTracksW2v750[pid]:\n",
    "        tracksRanks[pair[0]]=rank\n",
    "        rank+=1\n",
    "    TitleAndTracksW2v750Dict[pid]=tracksRanks"
   ]
  },
  {
   "cell_type": "code",
   "execution_count": 30,
   "metadata": {},
   "outputs": [
    {
     "data": {
      "text/plain": [
       "84960"
      ]
     },
     "execution_count": 30,
     "metadata": {},
     "output_type": "execute_result"
    }
   ],
   "source": [
    "len(TitleAndTracksW2v750Dict)"
   ]
  },
  {
   "cell_type": "code",
   "execution_count": 15,
   "metadata": {
    "collapsed": true
   },
   "outputs": [],
   "source": [
    "'''\n",
    "metaPathAILAW2vDict\n",
    "metaPathILIW2vW2v750Dict\n",
    "OnlyTracksW2v750W2vDict\n",
    "TitleAndTracksW2v750Dict\n",
    "'''\n",
    "#1 qid:839792 1:356.0 2:356.0 3:551 4:1 5:236 6:5 7:231 8:0.0169491525 9:0.0042372881 10:0.0084745763 11:0.0211864407 12:0 13:0 14:0 15:0.0023293333 16:0.0335653333 17:0.0110800000 18:0 19:0 20:0 21:0.0000733333 22:0.0000933333 23:0.0000320000 #1zbcFS5hS92oXNL3UZDfY0\n",
    "\n",
    "TrainFile='./Training/OnlyQEAndMeta/BigRecallTelescopingFile750.txt'\n",
    "with open(TrainFile) as f:\n",
    "    train = f.readlines()\n",
    "    \n",
    "newOp=[]\n",
    "\n",
    "for l in train:\n",
    "    pid=l.split()[1].split(':')[1].strip()\n",
    "    trackid=l.split('#')[1].strip()\n",
    "    AILARank=1050\n",
    "    ILIRank=1050\n",
    "    OnlyTracksRank=1050\n",
    "    TitleAndTracksRank=1050\n",
    "    \n",
    "    if pid in metaPathAILAW2vDict:\n",
    "        if trackid in metaPathAILAW2vDict[pid]:\n",
    "            AILARank=metaPathAILAW2vDict[pid][trackid]\n",
    "    if pid in metaPathILIW2vW2v750Dict:\n",
    "        if trackid in metaPathILIW2vW2v750Dict[pid]:\n",
    "            ILIRank=metaPathILIW2vW2v750Dict[pid][trackid]\n",
    "    if pid in OnlyTracksW2v750W2vDict:\n",
    "        if trackid in OnlyTracksW2v750W2vDict[pid]:\n",
    "            OnlyTracksRank=OnlyTracksW2v750W2vDict[pid][trackid]\n",
    "    if pid in TitleAndTracksW2v750Dict:\n",
    "        if trackid in TitleAndTracksW2v750Dict[pid]:\n",
    "            TitleAndTracksRank=TitleAndTracksW2v750Dict[pid][trackid]\n",
    "    \n",
    "    newline=l.split('#')[0].strip() +' 24:'+str(AILARank)+' 25:'+str(ILIRank)+' 26:'+str(OnlyTracksRank)+' 27:'+str(TitleAndTracksRank)+' #'+trackid\n",
    "    #print newline\n",
    "    newOp.append(newline)"
   ]
  },
  {
   "cell_type": "code",
   "execution_count": 31,
   "metadata": {},
   "outputs": [
    {
     "data": {
      "text/plain": [
       "14417770"
      ]
     },
     "execution_count": 31,
     "metadata": {},
     "output_type": "execute_result"
    }
   ],
   "source": [
    "len(newOp)"
   ]
  },
  {
   "cell_type": "code",
   "execution_count": null,
   "metadata": {
    "collapsed": true
   },
   "outputs": [],
   "source": [
    "#BigRecall-W2vTrainingFile750-2080.txt\n",
    "#BigRecallW2vTestingFile750.txt"
   ]
  },
  {
   "cell_type": "code",
   "execution_count": 1,
   "metadata": {},
   "outputs": [
    {
     "ename": "NameError",
     "evalue": "name 'newOp' is not defined",
     "output_type": "error",
     "traceback": [
      "\u001b[0;31m\u001b[0m",
      "\u001b[0;31mNameError\u001b[0mTraceback (most recent call last)",
      "\u001b[0;32m<ipython-input-1-35be1d771838>\u001b[0m in \u001b[0;36m<module>\u001b[0;34m()\u001b[0m\n\u001b[1;32m      1\u001b[0m \u001b[0mopTrainingFile\u001b[0m\u001b[0;34m=\u001b[0m\u001b[0;34m'./Training/W2VAsFeatures-BigRecallTestingFile750.txt'\u001b[0m\u001b[0;34m\u001b[0m\u001b[0m\n\u001b[1;32m      2\u001b[0m \u001b[0;32mwith\u001b[0m \u001b[0mopen\u001b[0m\u001b[0;34m(\u001b[0m\u001b[0mopTrainingFile\u001b[0m\u001b[0;34m,\u001b[0m \u001b[0;34m'w'\u001b[0m\u001b[0;34m)\u001b[0m \u001b[0;32mas\u001b[0m \u001b[0mfile_handler\u001b[0m\u001b[0;34m:\u001b[0m\u001b[0;34m\u001b[0m\u001b[0m\n\u001b[0;32m----> 3\u001b[0;31m     \u001b[0;32mfor\u001b[0m \u001b[0mline\u001b[0m \u001b[0;32min\u001b[0m \u001b[0mnewOp\u001b[0m\u001b[0;34m:\u001b[0m\u001b[0;34m\u001b[0m\u001b[0m\n\u001b[0m\u001b[1;32m      4\u001b[0m         \u001b[0mfile_handler\u001b[0m\u001b[0;34m.\u001b[0m\u001b[0mwrite\u001b[0m\u001b[0;34m(\u001b[0m\u001b[0mline\u001b[0m\u001b[0;34m+\u001b[0m\u001b[0;34m'\\n'\u001b[0m\u001b[0;34m)\u001b[0m\u001b[0;34m\u001b[0m\u001b[0m\n",
      "\u001b[0;31mNameError\u001b[0m: name 'newOp' is not defined"
     ]
    }
   ],
   "source": [
    "opTrainingFile='./Training/W2VAsFeatures-BigRecallTelescopingFile750.txt'\n",
    "with open(opTrainingFile, 'w') as file_handler:\n",
    "    for line in newOp:\n",
    "        file_handler.write(line+'\\n')"
   ]
  },
  {
   "cell_type": "code",
   "execution_count": 18,
   "metadata": {
    "collapsed": true
   },
   "outputs": [],
   "source": [
    "import pickle\n",
    "metaPathAILAW2v=pickle.load(open('./ChallengeMetaPathAILAW2v.pickle','rb'))\n",
    "metaPathILIW2vW2v750=pickle.load(open('./ChallengeMetaPathILIW2v.pickle','rb'))\n",
    "OnlyTracksW2v750=pickle.load(open('./ChallengeOnlyTracksW2v.pickle','rb'))\n",
    "TitleAndTracksW2v750=pickle.load(open('./ChallengeTitlesAndTracksTracksW2v.pickle','rb'))"
   ]
  },
  {
   "cell_type": "code",
   "execution_count": 19,
   "metadata": {
    "collapsed": true
   },
   "outputs": [],
   "source": [
    "metaPathAILAW2vDict={}\n",
    "for pid in metaPathAILAW2v:\n",
    "    rank=1\n",
    "    tracksRanks={}\n",
    "    for pair in metaPathAILAW2v[pid]:\n",
    "        tracksRanks[pair[0]]=rank\n",
    "        rank+=1\n",
    "    metaPathAILAW2vDict[pid]=tracksRanks\n",
    "\n",
    "metaPathILIW2vW2v750Dict={}\n",
    "for pid in metaPathILIW2vW2v750:\n",
    "    rank=1\n",
    "    tracksRanks={}\n",
    "    for pair in metaPathILIW2vW2v750[pid]:\n",
    "        tracksRanks[pair[0]]=rank\n",
    "        rank+=1\n",
    "    metaPathILIW2vW2v750Dict[pid]=tracksRanks\n",
    "\n",
    "OnlyTracksW2v750W2vDict={}\n",
    "for pid in OnlyTracksW2v750:\n",
    "    rank=1\n",
    "    tracksRanks={}\n",
    "    for pair in OnlyTracksW2v750[pid]:\n",
    "        tracksRanks[pair[0]]=rank\n",
    "        rank+=1\n",
    "    OnlyTracksW2v750W2vDict[pid]=tracksRanks\n",
    "\n",
    "\n",
    "TitleAndTracksW2v750Dict={}\n",
    "for pid in TitleAndTracksW2v750:\n",
    "    rank=1\n",
    "    tracksRanks={}\n",
    "    for pair in TitleAndTracksW2v750[pid]:\n",
    "        tracksRanks[pair[0]]=rank\n",
    "        rank+=1\n",
    "    TitleAndTracksW2v750Dict[pid]=tracksRanks\n"
   ]
  },
  {
   "cell_type": "code",
   "execution_count": 20,
   "metadata": {
    "collapsed": true
   },
   "outputs": [],
   "source": [
    "TrainFile='./Training/OnlyQEAndMeta/ChallengeSetFeatureFile.txt'\n",
    "with open(TrainFile) as f:\n",
    "    train = f.readlines()\n",
    "    \n",
    "newOp=[]\n",
    "\n",
    "for l in train:\n",
    "    pid=l.split()[1].split(':')[1].strip()\n",
    "    trackid=l.split('#')[1].strip()\n",
    "    AILARank=1050\n",
    "    ILIRank=1050\n",
    "    OnlyTracksRank=1050\n",
    "    TitleAndTracksRank=1050\n",
    "    \n",
    "    if pid in metaPathAILAW2vDict:\n",
    "        if trackid in metaPathAILAW2vDict[pid]:\n",
    "            AILARank=metaPathAILAW2vDict[pid][trackid]\n",
    "    if pid in metaPathILIW2vW2v750Dict:\n",
    "        if trackid in metaPathILIW2vW2v750Dict[pid]:\n",
    "            ILIRank=metaPathILIW2vW2v750Dict[pid][trackid]\n",
    "    if pid in OnlyTracksW2v750W2vDict:\n",
    "        if trackid in OnlyTracksW2v750W2vDict[pid]:\n",
    "            OnlyTracksRank=OnlyTracksW2v750W2vDict[pid][trackid]\n",
    "    if pid in TitleAndTracksW2v750Dict:\n",
    "        if trackid in TitleAndTracksW2v750Dict[pid]:\n",
    "            TitleAndTracksRank=TitleAndTracksW2v750Dict[pid][trackid]\n",
    "    \n",
    "    newline=l.split('#')[0].strip() +' 24:'+str(AILARank)+' 25:'+str(ILIRank)+' 26:'+str(OnlyTracksRank)+' 27:'+str(TitleAndTracksRank)+' #'+trackid\n",
    "    #print newline\n",
    "    newOp.append(newline)"
   ]
  },
  {
   "cell_type": "code",
   "execution_count": 21,
   "metadata": {
    "collapsed": true
   },
   "outputs": [],
   "source": [
    "opTrainingFile='./Training/W2VAsFeatures-ChallengeSetFeatureFile.txt'\n",
    "with open(opTrainingFile, 'w') as file_handler:\n",
    "    for line in newOp:\n",
    "        file_handler.write(line+'\\n')"
   ]
  },
  {
   "cell_type": "code",
   "execution_count": null,
   "metadata": {
    "collapsed": true
   },
   "outputs": [],
   "source": [
    "\n",
    "\n",
    "java -jar RankLib-2.10.jar -load  -rank   -score W2VAsFeaturesBRScores750-2080Model-100Trees-NDCG500-tc-1-lr001-leaf10.txt\n",
    "\n",
    "\n"
   ]
  }
 ],
 "metadata": {
  "kernelspec": {
   "display_name": "Python 2",
   "language": "python",
   "name": "python2"
  },
  "language_info": {
   "codemirror_mode": {
    "name": "ipython",
    "version": 2
   },
   "file_extension": ".py",
   "mimetype": "text/x-python",
   "name": "python",
   "nbconvert_exporter": "python",
   "pygments_lexer": "ipython2",
   "version": "2.7.12"
  }
 },
 "nbformat": 4,
 "nbformat_minor": 2
}
